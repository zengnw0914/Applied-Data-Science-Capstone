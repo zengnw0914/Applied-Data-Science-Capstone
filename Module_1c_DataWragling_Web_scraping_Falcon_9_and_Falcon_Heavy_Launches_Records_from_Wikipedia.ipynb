{
  "nbformat": 4,
  "nbformat_minor": 0,
  "metadata": {
    "colab": {
      "provenance": []
    },
    "kernelspec": {
      "name": "python3",
      "display_name": "Python 3"
    },
    "language_info": {
      "name": "python"
    }
  },
  "cells": [
    {
      "cell_type": "markdown",
      "source": [
        "## Web scraping Falcon 9 and Falcon Heavy Launches Records from Wikipedia\n"
      ],
      "metadata": {
        "id": "chPq8tUNCu50"
      }
    },
    {
      "cell_type": "code",
      "execution_count": null,
      "metadata": {
        "colab": {
          "base_uri": "https://localhost:8080/"
        },
        "collapsed": true,
        "id": "8dlH27i8pmVu",
        "outputId": "2a57a9a8-d478-4ac2-e388-599aa86005ef"
      },
      "outputs": [
        {
          "output_type": "stream",
          "name": "stdout",
          "text": [
            "Requirement already satisfied: beautifulsoup4 in /usr/local/lib/python3.11/dist-packages (4.13.3)\n",
            "Requirement already satisfied: soupsieve>1.2 in /usr/local/lib/python3.11/dist-packages (from beautifulsoup4) (2.6)\n",
            "Requirement already satisfied: typing-extensions>=4.0.0 in /usr/local/lib/python3.11/dist-packages (from beautifulsoup4) (4.13.1)\n",
            "Requirement already satisfied: requests in /usr/local/lib/python3.11/dist-packages (2.32.3)\n",
            "Requirement already satisfied: charset-normalizer<4,>=2 in /usr/local/lib/python3.11/dist-packages (from requests) (3.4.1)\n",
            "Requirement already satisfied: idna<4,>=2.5 in /usr/local/lib/python3.11/dist-packages (from requests) (3.10)\n",
            "Requirement already satisfied: urllib3<3,>=1.21.1 in /usr/local/lib/python3.11/dist-packages (from requests) (2.3.0)\n",
            "Requirement already satisfied: certifi>=2017.4.17 in /usr/local/lib/python3.11/dist-packages (from requests) (2025.1.31)\n"
          ]
        }
      ],
      "source": [
        "!pip3 install beautifulsoup4\n",
        "!pip3 install requests"
      ]
    },
    {
      "cell_type": "code",
      "source": [
        "import sys\n",
        "\n",
        "import requests\n",
        "from bs4 import BeautifulSoup\n",
        "import re\n",
        "import unicodedata\n",
        "import pandas as pd"
      ],
      "metadata": {
        "id": "ru8QbwcGpyYc"
      },
      "execution_count": null,
      "outputs": []
    },
    {
      "cell_type": "code",
      "source": [
        "def date_time(table_cells):\n",
        "    \"\"\"\n",
        "    This function returns the data and time from the HTML  table cell\n",
        "    Input: the  element of a table data cell extracts extra row\n",
        "    \"\"\"\n",
        "    return [data_time.strip() for data_time in list(table_cells.strings)][0:2]\n",
        "\n",
        "def booster_version(table_cells):\n",
        "    \"\"\"\n",
        "    This function returns the booster version from the HTML  table cell\n",
        "    Input: the  element of a table data cell extracts extra row\n",
        "    \"\"\"\n",
        "    out=''.join([booster_version for i,booster_version in enumerate( table_cells.strings) if i%2==0][0:-1])\n",
        "    return out\n",
        "\n",
        "def landing_status(table_cells):\n",
        "    \"\"\"\n",
        "    This function returns the landing status from the HTML table cell\n",
        "    Input: the  element of a table data cell extracts extra row\n",
        "    \"\"\"\n",
        "    out=[i for i in table_cells.strings][0]\n",
        "    return out\n",
        "\n",
        "\n",
        "def get_mass(table_cells):\n",
        "    mass=unicodedata.normalize(\"NFKD\", table_cells.text).strip()\n",
        "    if mass:\n",
        "        mass.find(\"kg\")\n",
        "        new_mass=mass[0:mass.find(\"kg\")+2]\n",
        "    else:\n",
        "        new_mass=0\n",
        "    return new_mass\n",
        "\n",
        "\n",
        "def extract_column_from_header(row):\n",
        "    \"\"\"\n",
        "    This function returns the landing status from the HTML table cell\n",
        "    Input: the  element of a table data cell extracts extra row\n",
        "    \"\"\"\n",
        "    if (row.br):\n",
        "        row.br.extract()\n",
        "    if row.a:\n",
        "        row.a.extract()\n",
        "    if row.sup:\n",
        "        row.sup.extract()\n",
        "\n",
        "    colunm_name = ' '.join(row.contents)\n",
        "\n",
        "    # Filter the digit and empty names\n",
        "    if not(colunm_name.strip().isdigit()):\n",
        "        colunm_name = colunm_name.strip()\n",
        "        return colunm_name"
      ],
      "metadata": {
        "id": "H9TvYI_pp2f-"
      },
      "execution_count": null,
      "outputs": []
    },
    {
      "cell_type": "code",
      "source": [
        "static_url = \"https://en.wikipedia.org/w/index.php?title=List_of_Falcon_9_and_Falcon_Heavy_launches&oldid=1027686922\"\n",
        "response =requests.get(static_url)  #fetch the HTML content of the Wikipedia page\n",
        "\n",
        "#create a beautifulsoup object from the HTML response\n",
        "soup = BeautifulSoup(response.text, 'html.parser')  #BeautifulSoup: parse解析 the HTML content from the resposne\n",
        "\n",
        "print(soup.title.string)"
      ],
      "metadata": {
        "colab": {
          "base_uri": "https://localhost:8080/"
        },
        "id": "mezF8HoOp34i",
        "outputId": "4fe71120-d480-4b85-981d-a05b1eed76cb"
      },
      "execution_count": null,
      "outputs": [
        {
          "output_type": "stream",
          "name": "stdout",
          "text": [
            "List of Falcon 9 and Falcon Heavy launches - Wikipedia\n"
          ]
        }
      ]
    },
    {
      "cell_type": "markdown",
      "source": [
        "**Task 2**\n"
      ],
      "metadata": {
        "id": "VkBJYTNnLVwG"
      }
    },
    {
      "cell_type": "code",
      "source": [
        "\n",
        "# Define the extract_column_from_header function\n",
        "#remove unnecessary tag, only display the meaningful column names\n",
        "def extract_column_from_header(row):\n",
        "    \"\"\"\n",
        "    This function extracts and cleans column names from table headers.\n",
        "    Input: HTML row element\n",
        "    Output: Cleaned column name as a string\n",
        "    \"\"\"\n",
        "\n",
        "    #unnecessary tags (<br>, <a>, <sup>)\n",
        "    if (row.br):\n",
        "        row.br.extract()\n",
        "    if row.a:\n",
        "        row.a.extract()\n",
        "    if row.sup:\n",
        "        row.sup.extract()\n",
        "\n",
        "    column_name = ' '.join(row.contents)\n",
        "\n",
        "    # Filter out digits and empty names\n",
        "    if not(column_name.strip().isdigit()):\n",
        "        column_name = column_name.strip()\n",
        "        return column_name\n"
      ],
      "metadata": {
        "id": "cv_F28ASLZ9p"
      },
      "execution_count": null,
      "outputs": []
    },
    {
      "cell_type": "code",
      "source": [
        "# Locate the target table containing Falcon 9 launch records\n",
        "html_tables = soup.find_all('table', {'class': 'wikitable'})\n",
        "first_launch_table = html_tables[2]  # Assuming the third table contains relevant data"
      ],
      "metadata": {
        "id": "VACMlKa_Lx8P"
      },
      "execution_count": null,
      "outputs": []
    },
    {
      "cell_type": "code",
      "source": [
        "# Extract column names using the provided extract_column_from_header function\n",
        "column_names = []\n",
        "for row in first_launch_table.find_all('th'):\n",
        "    column_name = extract_column_from_header(row)\n",
        "    if column_name is not None and len(column_name) > 0:\n",
        "        column_names.append(column_name)\n",
        "\n",
        "# Print the extracted column names\n",
        "print(column_names)"
      ],
      "metadata": {
        "colab": {
          "base_uri": "https://localhost:8080/"
        },
        "id": "RCjbl5gUL2Uv",
        "outputId": "486de07f-0474-469f-f850-43e2a9ba4766"
      },
      "execution_count": null,
      "outputs": [
        {
          "output_type": "stream",
          "name": "stdout",
          "text": [
            "['Flight No.', 'Date and time ( )', 'Launch site', 'Payload', 'Payload mass', 'Orbit', 'Customer', 'Launch outcome']\n"
          ]
        }
      ]
    },
    {
      "cell_type": "code",
      "source": [
        "launch_dict= dict.fromkeys(column_names)\n",
        "\n",
        "\n",
        "# Let's initial the launch_dict with each value to be an empty list\n",
        "launch_dict['Flight No.'] = []\n",
        "launch_dict['Launch site'] = []\n",
        "launch_dict['Payload'] = []\n",
        "launch_dict['Payload mass'] = []\n",
        "launch_dict['Orbit'] = []\n",
        "launch_dict['Customer'] = []\n",
        "launch_dict['Launch outcome'] = []\n",
        "# Added some new columns\n",
        "launch_dict['Version Booster']=[]\n",
        "launch_dict['Booster landing']=[]\n",
        "launch_dict['Date']=[]\n",
        "launch_dict['Time']=[]"
      ],
      "metadata": {
        "id": "SZcMq9PsSZTt"
      },
      "execution_count": null,
      "outputs": []
    },
    {
      "cell_type": "code",
      "source": [
        " # Initialize extracted_row counter\n",
        "extracted_row = 0\n",
        "\n",
        "# Iterate through each table\n",
        "for table_number, table in enumerate(soup.find_all('table', 'wikitable plainrowheaders collapsible')):\n",
        "    # Get table rows\n",
        "    for rows in table.find_all('tr'):\n",
        "        # Check to see if first table heading is a number corresponding to a launch number\n",
        "        if rows.th:\n",
        "            if rows.th.string:\n",
        "                flag = rows.th.string.strip()\n",
        "                flag = flag.isdigit()\n",
        "        else:\n",
        "            flag = False\n",
        "\n",
        "        # If it's a valid row, extract data\n",
        "        if flag:\n",
        "            extracted_row += 1\n",
        "            row = rows.find_all('td')\n",
        "\n",
        "            # Flight Number\n",
        "            flight_number = rows.th.string.strip()\n",
        "            launch_dict['Flight No.'].append(flight_number)\n",
        "\n",
        "            # Date and Time\n",
        "            datatimelist = date_time(row[0])\n",
        "            date = datatimelist[0].strip()\n",
        "            time = datatimelist[1].strip()\n",
        "            launch_dict['Date'].append(date)\n",
        "            launch_dict['Time'].append(time)\n",
        "\n",
        "            # Booster Version\n",
        "            bv = booster_version(row[1])\n",
        "            launch_dict['Version Booster'].append(bv)\n",
        "\n",
        "            # Launch Site\n",
        "            launch_site = row[2].a.string.strip() if row[2].a else row[2].string.strip()\n",
        "            launch_dict['Launch site'].append(launch_site)\n",
        "\n",
        "            # Payload\n",
        "            payload = row[3].string.strip() if row[3].string else None\n",
        "            launch_dict['Payload'].append(payload)\n",
        "\n",
        "            # Payload Mass\n",
        "            payload_mass = get_mass(row[4])\n",
        "            launch_dict['Payload mass'].append(payload_mass)\n",
        "\n",
        "            # Orbit\n",
        "            orbit = row[5].string.strip() if row[5].string else None\n",
        "            launch_dict['Orbit'].append(orbit)\n",
        "\n",
        "            # Customer\n",
        "            customer = row[6].string.strip() if row[6].string else None\n",
        "            launch_dict['Customer'].append(customer)\n",
        "\n",
        "            # Launch Outcome\n",
        "            launch_outcome = landing_status(row[7])\n",
        "            launch_dict['Launch outcome'].append(launch_outcome)\n",
        "\n",
        "            # Booster Landing Outcome\n",
        "            booster_landing = landing_status(row[8])\n",
        "            launch_dict['Booster landing'].append(booster_landing)\n",
        "\n",
        "# Convert the dictionary into a Pandas DataFrame\n",
        "launch_df = pd.DataFrame(launch_dict)\n",
        "\n",
        "# Display the DataFrame to verify results\n",
        "print(launch_df.head())\n"
      ],
      "metadata": {
        "colab": {
          "base_uri": "https://localhost:8080/"
        },
        "id": "xCQNgfw-TK7h",
        "outputId": "9f2c77de-24ce-480e-dae2-3be6ffc95d22"
      },
      "execution_count": null,
      "outputs": [
        {
          "output_type": "stream",
          "name": "stdout",
          "text": [
            "  Flight No. Launch site Payload  Payload mass Orbit Customer Launch outcome  \\\n",
            "0          1       CCAFS    None           NaN  None     None        Success   \n",
            "1          2       CCAFS    None           NaN  None     None        Success   \n",
            "2          3       CCAFS    None         525.0  None     None        Success   \n",
            "3          4       CCAFS    None        4700.0  None     None        Success   \n",
            "4          5       CCAFS    None        4877.0  None     None        Success   \n",
            "\n",
            "    Version Booster Booster landing              Date   Time  \n",
            "0  F9 v1.07B0003.18         Failure      4 June 2010,  18:45  \n",
            "1  F9 v1.07B0004.18         Failure  8 December 2010,  15:43  \n",
            "2  F9 v1.07B0005.18      No attempt      22 May 2012,  07:44  \n",
            "3  F9 v1.07B0006.18      No attempt   8 October 2012,  00:35  \n",
            "4  F9 v1.07B0007.18      No attempt     1 March 2013,  15:10  \n"
          ]
        }
      ]
    },
    {
      "cell_type": "code",
      "source": [
        "import requests\n",
        "import pandas as pd\n",
        "\n",
        "# Perform GET request on SpaceX API\n",
        "url = \"https://api.spacexdata.com/v4/launches\"\n",
        "response = requests.get(url)\n",
        "data = response.json()\n",
        "\n",
        "# Convert response to DataFrame using pd.json_normalize\n",
        "df = pd.json_normalize(data)\n",
        "\n",
        "# Extract the year from the first row in the column static_fire_date_utc\n",
        "first_row_date = df.loc[0, 'static_fire_date_utc']\n",
        "first_row_year = pd.to_datetime(first_row_date).year\n",
        "\n",
        "print(first_row_year)  # Output: 2006\n"
      ],
      "metadata": {
        "colab": {
          "base_uri": "https://localhost:8080/"
        },
        "id": "VPgr8YL1Td9Y",
        "outputId": "8c77a168-8489-4a5e-e70d-0d4c65d82a42"
      },
      "execution_count": null,
      "outputs": [
        {
          "output_type": "stream",
          "name": "stdout",
          "text": [
            "2006\n"
          ]
        }
      ]
    },
    {
      "cell_type": "code",
      "source": [
        "\n",
        "\n",
        "# Count missing values in the 'landpad' column\n",
        "missing_values = df['landpad'].isnull().sum()\n",
        "\n",
        "print(missing_values)  # Output: 26\n"
      ],
      "metadata": {
        "colab": {
          "base_uri": "https://localhost:8080/",
          "height": 193
        },
        "id": "LvYBnO4mUhnp",
        "outputId": "33a32d93-e0fc-4cbb-8581-2d00ec8e23cf"
      },
      "execution_count": 1,
      "outputs": [
        {
          "output_type": "error",
          "ename": "NameError",
          "evalue": "name 'df' is not defined",
          "traceback": [
            "\u001b[0;31m---------------------------------------------------------------------------\u001b[0m",
            "\u001b[0;31mNameError\u001b[0m                                 Traceback (most recent call last)",
            "\u001b[0;32m<ipython-input-1-7e4d96674c34>\u001b[0m in \u001b[0;36m<cell line: 0>\u001b[0;34m()\u001b[0m\n\u001b[1;32m      1\u001b[0m \u001b[0;31m# Count missing values in the 'landpad' column\u001b[0m\u001b[0;34m\u001b[0m\u001b[0;34m\u001b[0m\u001b[0m\n\u001b[0;32m----> 2\u001b[0;31m \u001b[0mmissing_values\u001b[0m \u001b[0;34m=\u001b[0m \u001b[0mdf\u001b[0m\u001b[0;34m[\u001b[0m\u001b[0;34m'landpad'\u001b[0m\u001b[0;34m]\u001b[0m\u001b[0;34m.\u001b[0m\u001b[0misnull\u001b[0m\u001b[0;34m(\u001b[0m\u001b[0;34m)\u001b[0m\u001b[0;34m.\u001b[0m\u001b[0msum\u001b[0m\u001b[0;34m(\u001b[0m\u001b[0;34m)\u001b[0m\u001b[0;34m\u001b[0m\u001b[0;34m\u001b[0m\u001b[0m\n\u001b[0m\u001b[1;32m      3\u001b[0m \u001b[0;34m\u001b[0m\u001b[0m\n\u001b[1;32m      4\u001b[0m \u001b[0mprint\u001b[0m\u001b[0;34m(\u001b[0m\u001b[0mmissing_values\u001b[0m\u001b[0;34m)\u001b[0m  \u001b[0;31m# Output: 26\u001b[0m\u001b[0;34m\u001b[0m\u001b[0;34m\u001b[0m\u001b[0m\n",
            "\u001b[0;31mNameError\u001b[0m: name 'df' is not defined"
          ]
        }
      ]
    }
  ]
}