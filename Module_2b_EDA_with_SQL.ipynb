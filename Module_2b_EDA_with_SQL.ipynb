{
  "nbformat": 4,
  "nbformat_minor": 0,
  "metadata": {
    "colab": {
      "provenance": []
    },
    "kernelspec": {
      "name": "python3",
      "display_name": "Python 3"
    },
    "language_info": {
      "name": "python"
    }
  },
  "cells": [
    {
      "cell_type": "code",
      "execution_count": null,
      "metadata": {
        "colab": {
          "base_uri": "https://localhost:8080/"
        },
        "id": "bo6bh55Lr1bP",
        "outputId": "ce424547-9353-4350-eb74-4a806afdc209"
      },
      "outputs": [
        {
          "output_type": "stream",
          "name": "stdout",
          "text": [
            "Collecting sqlalchemy==1.3.9\n",
            "  Downloading SQLAlchemy-1.3.9.tar.gz (6.0 MB)\n",
            "\u001b[2K     \u001b[90m━━━━━━━━━━━━━━━━━━━━━━━━━━━━━━━━━━━━━━━━\u001b[0m \u001b[32m6.0/6.0 MB\u001b[0m \u001b[31m23.8 MB/s\u001b[0m eta \u001b[36m0:00:00\u001b[0m\n",
            "\u001b[?25h  Preparing metadata (setup.py) ... \u001b[?25l\u001b[?25hdone\n",
            "Building wheels for collected packages: sqlalchemy\n",
            "  Building wheel for sqlalchemy (setup.py) ... \u001b[?25l\u001b[?25hdone\n",
            "  Created wheel for sqlalchemy: filename=SQLAlchemy-1.3.9-cp311-cp311-linux_x86_64.whl size=1193602 sha256=2d3df01aa329f62c8763b3e65c06b1c3fe8ee931c8f083b0ee23c5af720f09a9\n",
            "  Stored in directory: /root/.cache/pip/wheels/3a/7c/1e/12404784a68083eb969f877a1808a1847bab897684b56ddc55\n",
            "Successfully built sqlalchemy\n",
            "Installing collected packages: sqlalchemy\n",
            "  Attempting uninstall: sqlalchemy\n",
            "    Found existing installation: SQLAlchemy 2.0.40\n",
            "    Uninstalling SQLAlchemy-2.0.40:\n",
            "      Successfully uninstalled SQLAlchemy-2.0.40\n",
            "\u001b[31mERROR: pip's dependency resolver does not currently take into account all the packages that are installed. This behaviour is the source of the following dependency conflicts.\n",
            "langchain 0.3.23 requires SQLAlchemy<3,>=1.4, but you have sqlalchemy 1.3.9 which is incompatible.\n",
            "ipython-sql 0.5.0 requires sqlalchemy>=2.0, but you have sqlalchemy 1.3.9 which is incompatible.\u001b[0m\u001b[31m\n",
            "\u001b[0mSuccessfully installed sqlalchemy-1.3.9\n",
            "Requirement already satisfied: ipython-sql in /usr/local/lib/python3.11/dist-packages (0.5.0)\n",
            "Requirement already satisfied: prettytable in /usr/local/lib/python3.11/dist-packages (from ipython-sql) (3.16.0)\n",
            "Requirement already satisfied: ipython in /usr/local/lib/python3.11/dist-packages (from ipython-sql) (7.34.0)\n",
            "Collecting sqlalchemy>=2.0 (from ipython-sql)\n",
            "  Downloading sqlalchemy-2.0.40-cp311-cp311-manylinux_2_17_x86_64.manylinux2014_x86_64.whl.metadata (9.6 kB)\n",
            "Requirement already satisfied: sqlparse in /usr/local/lib/python3.11/dist-packages (from ipython-sql) (0.5.3)\n",
            "Requirement already satisfied: six in /usr/local/lib/python3.11/dist-packages (from ipython-sql) (1.17.0)\n",
            "Requirement already satisfied: ipython-genutils in /usr/local/lib/python3.11/dist-packages (from ipython-sql) (0.2.0)\n",
            "Requirement already satisfied: greenlet>=1 in /usr/local/lib/python3.11/dist-packages (from sqlalchemy>=2.0->ipython-sql) (3.1.1)\n",
            "Requirement already satisfied: typing-extensions>=4.6.0 in /usr/local/lib/python3.11/dist-packages (from sqlalchemy>=2.0->ipython-sql) (4.13.1)\n",
            "Requirement already satisfied: setuptools>=18.5 in /usr/local/lib/python3.11/dist-packages (from ipython->ipython-sql) (75.2.0)\n",
            "Collecting jedi>=0.16 (from ipython->ipython-sql)\n",
            "  Downloading jedi-0.19.2-py2.py3-none-any.whl.metadata (22 kB)\n",
            "Requirement already satisfied: decorator in /usr/local/lib/python3.11/dist-packages (from ipython->ipython-sql) (4.4.2)\n",
            "Requirement already satisfied: pickleshare in /usr/local/lib/python3.11/dist-packages (from ipython->ipython-sql) (0.7.5)\n",
            "Requirement already satisfied: traitlets>=4.2 in /usr/local/lib/python3.11/dist-packages (from ipython->ipython-sql) (5.7.1)\n",
            "Requirement already satisfied: prompt-toolkit!=3.0.0,!=3.0.1,<3.1.0,>=2.0.0 in /usr/local/lib/python3.11/dist-packages (from ipython->ipython-sql) (3.0.50)\n",
            "Requirement already satisfied: pygments in /usr/local/lib/python3.11/dist-packages (from ipython->ipython-sql) (2.18.0)\n",
            "Requirement already satisfied: backcall in /usr/local/lib/python3.11/dist-packages (from ipython->ipython-sql) (0.2.0)\n",
            "Requirement already satisfied: matplotlib-inline in /usr/local/lib/python3.11/dist-packages (from ipython->ipython-sql) (0.1.7)\n",
            "Requirement already satisfied: pexpect>4.3 in /usr/local/lib/python3.11/dist-packages (from ipython->ipython-sql) (4.9.0)\n",
            "Requirement already satisfied: wcwidth in /usr/local/lib/python3.11/dist-packages (from prettytable->ipython-sql) (0.2.13)\n",
            "Requirement already satisfied: parso<0.9.0,>=0.8.4 in /usr/local/lib/python3.11/dist-packages (from jedi>=0.16->ipython->ipython-sql) (0.8.4)\n",
            "Requirement already satisfied: ptyprocess>=0.5 in /usr/local/lib/python3.11/dist-packages (from pexpect>4.3->ipython->ipython-sql) (0.7.0)\n",
            "Downloading sqlalchemy-2.0.40-cp311-cp311-manylinux_2_17_x86_64.manylinux2014_x86_64.whl (3.2 MB)\n",
            "\u001b[2K   \u001b[90m━━━━━━━━━━━━━━━━━━━━━━━━━━━━━━━━━━━━━━━━\u001b[0m \u001b[32m3.2/3.2 MB\u001b[0m \u001b[31m30.4 MB/s\u001b[0m eta \u001b[36m0:00:00\u001b[0m\n",
            "\u001b[?25hDownloading jedi-0.19.2-py2.py3-none-any.whl (1.6 MB)\n",
            "\u001b[2K   \u001b[90m━━━━━━━━━━━━━━━━━━━━━━━━━━━━━━━━━━━━━━━━\u001b[0m \u001b[32m1.6/1.6 MB\u001b[0m \u001b[31m50.4 MB/s\u001b[0m eta \u001b[36m0:00:00\u001b[0m\n",
            "\u001b[?25hInstalling collected packages: sqlalchemy, jedi\n",
            "  Attempting uninstall: sqlalchemy\n",
            "    Found existing installation: SQLAlchemy 1.3.9\n",
            "    Uninstalling SQLAlchemy-1.3.9:\n",
            "      Successfully uninstalled SQLAlchemy-1.3.9\n",
            "Successfully installed jedi-0.19.2 sqlalchemy-2.0.40\n",
            "Requirement already satisfied: ipython-sql in /usr/local/lib/python3.11/dist-packages (0.5.0)\n",
            "Requirement already satisfied: prettytable in /usr/local/lib/python3.11/dist-packages (3.16.0)\n",
            "Requirement already satisfied: ipython in /usr/local/lib/python3.11/dist-packages (from ipython-sql) (7.34.0)\n",
            "Requirement already satisfied: sqlalchemy>=2.0 in /usr/local/lib/python3.11/dist-packages (from ipython-sql) (2.0.40)\n",
            "Requirement already satisfied: sqlparse in /usr/local/lib/python3.11/dist-packages (from ipython-sql) (0.5.3)\n",
            "Requirement already satisfied: six in /usr/local/lib/python3.11/dist-packages (from ipython-sql) (1.17.0)\n",
            "Requirement already satisfied: ipython-genutils in /usr/local/lib/python3.11/dist-packages (from ipython-sql) (0.2.0)\n",
            "Requirement already satisfied: wcwidth in /usr/local/lib/python3.11/dist-packages (from prettytable) (0.2.13)\n",
            "Requirement already satisfied: greenlet>=1 in /usr/local/lib/python3.11/dist-packages (from sqlalchemy>=2.0->ipython-sql) (3.1.1)\n",
            "Requirement already satisfied: typing-extensions>=4.6.0 in /usr/local/lib/python3.11/dist-packages (from sqlalchemy>=2.0->ipython-sql) (4.13.1)\n",
            "Requirement already satisfied: setuptools>=18.5 in /usr/local/lib/python3.11/dist-packages (from ipython->ipython-sql) (75.2.0)\n",
            "Requirement already satisfied: jedi>=0.16 in /usr/local/lib/python3.11/dist-packages (from ipython->ipython-sql) (0.19.2)\n",
            "Requirement already satisfied: decorator in /usr/local/lib/python3.11/dist-packages (from ipython->ipython-sql) (4.4.2)\n",
            "Requirement already satisfied: pickleshare in /usr/local/lib/python3.11/dist-packages (from ipython->ipython-sql) (0.7.5)\n",
            "Requirement already satisfied: traitlets>=4.2 in /usr/local/lib/python3.11/dist-packages (from ipython->ipython-sql) (5.7.1)\n",
            "Requirement already satisfied: prompt-toolkit!=3.0.0,!=3.0.1,<3.1.0,>=2.0.0 in /usr/local/lib/python3.11/dist-packages (from ipython->ipython-sql) (3.0.50)\n",
            "Requirement already satisfied: pygments in /usr/local/lib/python3.11/dist-packages (from ipython->ipython-sql) (2.18.0)\n",
            "Requirement already satisfied: backcall in /usr/local/lib/python3.11/dist-packages (from ipython->ipython-sql) (0.2.0)\n",
            "Requirement already satisfied: matplotlib-inline in /usr/local/lib/python3.11/dist-packages (from ipython->ipython-sql) (0.1.7)\n",
            "Requirement already satisfied: pexpect>4.3 in /usr/local/lib/python3.11/dist-packages (from ipython->ipython-sql) (4.9.0)\n",
            "Requirement already satisfied: parso<0.9.0,>=0.8.4 in /usr/local/lib/python3.11/dist-packages (from jedi>=0.16->ipython->ipython-sql) (0.8.4)\n",
            "Requirement already satisfied: ptyprocess>=0.5 in /usr/local/lib/python3.11/dist-packages (from pexpect>4.3->ipython->ipython-sql) (0.7.0)\n"
          ]
        }
      ],
      "source": [
        "!pip install sqlalchemy==1.3.9\n",
        "!pip install ipython-sql\n",
        "!pip install ipython-sql prettytable\n",
        "%load_ext sql\n",
        "\n",
        "import csv, sqlite3\n",
        "import prettytable\n",
        "prettytable.DEFAULT = 'DEFAULT'\n",
        "\n",
        "con = sqlite3.connect(\"my_data1.db\")\n",
        "cur = con.cursor()\n",
        "\n",
        "!pip install -q pandas\n",
        "%sql sqlite:///my_data1.db"
      ]
    },
    {
      "cell_type": "code",
      "source": [
        "import pandas as pd\n",
        "df = pd.read_csv(\"https://cf-courses-data.s3.us.cloud-object-storage.appdomain.cloud/IBM-DS0321EN-SkillsNetwork/labs/module_2/data/Spacex.csv\")\n",
        "df.to_sql(\"SPACEXTBL\", con, if_exists='replace', index=False,method=\"multi\")"
      ],
      "metadata": {
        "colab": {
          "base_uri": "https://localhost:8080/"
        },
        "id": "IEtMcUHosxs6",
        "outputId": "c263dcd9-22fa-4651-b3f9-c23a37e783e3"
      },
      "execution_count": null,
      "outputs": [
        {
          "output_type": "execute_result",
          "data": {
            "text/plain": [
              "101"
            ]
          },
          "metadata": {},
          "execution_count": 2
        }
      ]
    },
    {
      "cell_type": "code",
      "source": [
        "#DROP THE TABLE IF EXISTS\n",
        "%sql DROP TABLE IF EXISTS SPACEXTABLE;"
      ],
      "metadata": {
        "colab": {
          "base_uri": "https://localhost:8080/"
        },
        "id": "JVhvSzMZs2Al",
        "outputId": "f02fba39-4f61-454c-c3b3-02495a328d1d"
      },
      "execution_count": null,
      "outputs": [
        {
          "output_type": "stream",
          "name": "stdout",
          "text": [
            " * sqlite:///my_data1.db\n",
            "Done.\n"
          ]
        },
        {
          "output_type": "execute_result",
          "data": {
            "text/plain": [
              "[]"
            ]
          },
          "metadata": {},
          "execution_count": 3
        }
      ]
    },
    {
      "cell_type": "code",
      "source": [
        "%sql create table SPACEXTABLE as select * from SPACEXTBL where Date is not null"
      ],
      "metadata": {
        "colab": {
          "base_uri": "https://localhost:8080/"
        },
        "id": "HXXXQGhcs5n6",
        "outputId": "d8f41120-b010-43b4-bec3-615ba6048dc6"
      },
      "execution_count": null,
      "outputs": [
        {
          "output_type": "stream",
          "name": "stdout",
          "text": [
            " * sqlite:///my_data1.db\n",
            "Done.\n"
          ]
        },
        {
          "output_type": "execute_result",
          "data": {
            "text/plain": [
              "[]"
            ]
          },
          "metadata": {},
          "execution_count": 4
        }
      ]
    },
    {
      "cell_type": "code",
      "source": [
        "#Task 1: display the names of the unique launch sites in the space mission\n",
        "full_table = %sql select * from SPACEXTABLE\n",
        "print(full_table)"
      ],
      "metadata": {
        "colab": {
          "base_uri": "https://localhost:8080/"
        },
        "id": "UyDQuoFYtnQI",
        "outputId": "576c036d-c72e-44b4-9803-898ae914dac0"
      },
      "execution_count": null,
      "outputs": [
        {
          "output_type": "stream",
          "name": "stdout",
          "text": [
            " * sqlite:///my_data1.db\n",
            "Done.\n",
            "+------------+------------+-----------------+--------------+---------------------------------------------------------------+-------------------+-------------+-----------------------------------------------------------+----------------------------------+------------------------+\n",
            "|    Date    | Time (UTC) | Booster_Version | Launch_Site  |                            Payload                            | PAYLOAD_MASS__KG_ |    Orbit    |                          Customer                         |         Mission_Outcome          |    Landing_Outcome     |\n",
            "+------------+------------+-----------------+--------------+---------------------------------------------------------------+-------------------+-------------+-----------------------------------------------------------+----------------------------------+------------------------+\n",
            "| 2010-06-04 |  18:45:00  |  F9 v1.0  B0003 | CCAFS LC-40  |              Dragon Spacecraft Qualification Unit             |         0         |     LEO     |                           SpaceX                          |             Success              |  Failure (parachute)   |\n",
            "| 2010-12-08 |  15:43:00  |  F9 v1.0  B0004 | CCAFS LC-40  | Dragon demo flight C1, two CubeSats, barrel of Brouere cheese |         0         |  LEO (ISS)  |                      NASA (COTS) NRO                      |             Success              |  Failure (parachute)   |\n",
            "| 2012-05-22 |  7:44:00   |  F9 v1.0  B0005 | CCAFS LC-40  |                     Dragon demo flight C2                     |        525        |  LEO (ISS)  |                        NASA (COTS)                        |             Success              |       No attempt       |\n",
            "| 2012-10-08 |  0:35:00   |  F9 v1.0  B0006 | CCAFS LC-40  |                          SpaceX CRS-1                         |        500        |  LEO (ISS)  |                         NASA (CRS)                        |             Success              |       No attempt       |\n",
            "| 2013-03-01 |  15:10:00  |  F9 v1.0  B0007 | CCAFS LC-40  |                          SpaceX CRS-2                         |        677        |  LEO (ISS)  |                         NASA (CRS)                        |             Success              |       No attempt       |\n",
            "| 2013-09-29 |  16:00:00  |  F9 v1.1  B1003 | VAFB SLC-4E  |                            CASSIOPE                           |        500        |  Polar LEO  |                            MDA                            |             Success              |  Uncontrolled (ocean)  |\n",
            "| 2013-12-03 |  22:41:00  |     F9 v1.1     | CCAFS LC-40  |                             SES-8                             |        3170       |     GTO     |                            SES                            |             Success              |       No attempt       |\n",
            "| 2014-01-06 |  22:06:00  |     F9 v1.1     | CCAFS LC-40  |                           Thaicom 6                           |        3325       |     GTO     |                          Thaicom                          |             Success              |       No attempt       |\n",
            "| 2014-04-18 |  19:25:00  |     F9 v1.1     | CCAFS LC-40  |                          SpaceX CRS-3                         |        2296       |  LEO (ISS)  |                         NASA (CRS)                        |             Success              |   Controlled (ocean)   |\n",
            "| 2014-07-14 |  15:15:00  |     F9 v1.1     | CCAFS LC-40  |            OG2 Mission 1  6 Orbcomm-OG2 satellites            |        1316       |     LEO     |                          Orbcomm                          |             Success              |   Controlled (ocean)   |\n",
            "| 2014-08-05 |  8:00:00   |     F9 v1.1     | CCAFS LC-40  |                           AsiaSat 8                           |        4535       |     GTO     |                          AsiaSat                          |             Success              |       No attempt       |\n",
            "| 2014-09-07 |  5:00:00   |  F9 v1.1 B1011  | CCAFS LC-40  |                           AsiaSat 6                           |        4428       |     GTO     |                          AsiaSat                          |             Success              |       No attempt       |\n",
            "| 2014-09-21 |  5:52:00   |  F9 v1.1 B1010  | CCAFS LC-40  |                          SpaceX CRS-4                         |        2216       |  LEO (ISS)  |                         NASA (CRS)                        |             Success              |  Uncontrolled (ocean)  |\n",
            "| 2015-01-10 |  9:47:00   |  F9 v1.1 B1012  | CCAFS LC-40  |                          SpaceX CRS-5                         |        2395       |  LEO (ISS)  |                         NASA (CRS)                        |             Success              |  Failure (drone ship)  |\n",
            "| 2015-02-11 |  23:03:00  |  F9 v1.1 B1013  | CCAFS LC-40  |                             DSCOVR                            |        570        |     HEO     |                  U.S. Air Force NASA NOAA                 |             Success              |   Controlled (ocean)   |\n",
            "| 2015-03-02 |  3:50:00   |  F9 v1.1 B1014  | CCAFS LC-40  |                   ABS-3A Eutelsat 115 West B                  |        4159       |     GTO     |                        ABS Eutelsat                       |             Success              |       No attempt       |\n",
            "| 2015-04-14 |  20:10:00  |  F9 v1.1 B1015  | CCAFS LC-40  |                          SpaceX CRS-6                         |        1898       |  LEO (ISS)  |                         NASA (CRS)                        |             Success              |  Failure (drone ship)  |\n",
            "| 2015-04-27 |  23:03:00  |  F9 v1.1 B1016  | CCAFS LC-40  |                     Turkmen 52 / MonacoSAT                    |        4707       |     GTO     |             Turkmenistan National Space Agency            |             Success              |       No attempt       |\n",
            "| 2015-06-28 |  14:21:00  |  F9 v1.1 B1018  | CCAFS LC-40  |                          SpaceX CRS-7                         |        1952       |  LEO (ISS)  |                         NASA (CRS)                        |       Failure (in flight)        | Precluded (drone ship) |\n",
            "| 2015-12-22 |  1:29:00   |   F9 FT B1019   | CCAFS LC-40  |            OG2 Mission 2  11 Orbcomm-OG2 satellites           |        2034       |     LEO     |                          Orbcomm                          |             Success              |  Success (ground pad)  |\n",
            "| 2016-01-17 |  18:42:00  |  F9 v1.1 B1017  | VAFB SLC-4E  |                            Jason-3                            |        553        |     LEO     |                    NASA (LSP) NOAA CNES                   |             Success              |  Failure (drone ship)  |\n",
            "| 2016-03-04 |  23:35:00  |   F9 FT B1020   | CCAFS LC-40  |                             SES-9                             |        5271       |     GTO     |                            SES                            |             Success              |  Failure (drone ship)  |\n",
            "| 2016-04-08 |  20:43:00  |  F9 FT B1021.1  | CCAFS LC-40  |                          SpaceX CRS-8                         |        3136       |  LEO (ISS)  |                         NASA (CRS)                        |             Success              |  Success (drone ship)  |\n",
            "| 2016-05-06 |  5:21:00   |   F9 FT B1022   | CCAFS LC-40  |                            JCSAT-14                           |        4696       |     GTO     |                   SKY Perfect JSAT Group                  |             Success              |  Success (drone ship)  |\n",
            "| 2016-05-27 |  21:39:00  |  F9 FT B1023.1  | CCAFS LC-40  |                           Thaicom 8                           |        3100       |     GTO     |                          Thaicom                          |             Success              |  Success (drone ship)  |\n",
            "| 2016-06-15 |  14:29:00  |   F9 FT B1024   | CCAFS LC-40  |                   ABS-2A Eutelsat 117 West B                  |        3600       |     GTO     |                        ABS Eutelsat                       |             Success              |  Failure (drone ship)  |\n",
            "| 2016-07-18 |  4:45:00   |  F9 FT B1025.1  | CCAFS LC-40  |                          SpaceX CRS-9                         |        2257       |  LEO (ISS)  |                         NASA (CRS)                        |             Success              |  Success (ground pad)  |\n",
            "| 2016-08-14 |  5:26:00   |   F9 FT B1026   | CCAFS LC-40  |                            JCSAT-16                           |        4600       |     GTO     |                   SKY Perfect JSAT Group                  |             Success              |  Success (drone ship)  |\n",
            "| 2017-01-14 |  17:54:00  |  F9 FT B1029.1  | VAFB SLC-4E  |                         Iridium NEXT 1                        |        9600       |  Polar LEO  |                   Iridium Communications                  |             Success              |  Success (drone ship)  |\n",
            "| 2017-02-19 |  14:39:00  |  F9 FT B1031.1  |  KSC LC-39A  |                         SpaceX CRS-10                         |        2490       |  LEO (ISS)  |                         NASA (CRS)                        |             Success              |  Success (ground pad)  |\n",
            "| 2017-03-16 |  6:00:00   |   F9 FT B1030   |  KSC LC-39A  |                          EchoStar 23                          |        5600       |     GTO     |                          EchoStar                         |             Success              |       No attempt       |\n",
            "| 2017-03-30 |  22:27:00  |  F9 FT  B1021.2 |  KSC LC-39A  |                             SES-10                            |        5300       |     GTO     |                            SES                            |             Success              |  Success (drone ship)  |\n",
            "| 2017-05-01 |  11:15:00  |  F9 FT B1032.1  |  KSC LC-39A  |                            NROL-76                            |        5300       |     LEO     |                            NRO                            |             Success              |  Success (ground pad)  |\n",
            "| 2017-05-15 |  23:21:00  |   F9 FT B1034   |  KSC LC-39A  |                         Inmarsat-5 F4                         |        6070       |     GTO     |                          Inmarsat                         |             Success              |       No attempt       |\n",
            "| 2017-06-03 |  21:07:00  |  F9 FT B1035.1  |  KSC LC-39A  |                         SpaceX CRS-11                         |        2708       |  LEO (ISS)  |                         NASA (CRS)                        |             Success              |  Success (ground pad)  |\n",
            "| 2017-06-23 |  19:10:00  |  F9 FT  B1029.2 |  KSC LC-39A  |                         BulgariaSat-1                         |        3669       |     GTO     |                         Bulsatcom                         |             Success              |  Success (drone ship)  |\n",
            "| 2017-06-25 |  20:25:00  |  F9 FT B1036.1  | VAFB SLC-4E  |                         Iridium NEXT 2                        |        9600       |     LEO     |                   Iridium Communications                  |             Success              |  Success (drone ship)  |\n",
            "| 2017-07-05 |  23:38:00  |   F9 FT B1037   |  KSC LC-39A  |                          Intelsat 35e                         |        6761       |     GTO     |                          Intelsat                         |             Success              |       No attempt       |\n",
            "| 2017-08-14 |  16:31:00  |  F9 B4 B1039.1  |  KSC LC-39A  |                         SpaceX CRS-12                         |        3310       |  LEO (ISS)  |                         NASA (CRS)                        |             Success              |  Success (ground pad)  |\n",
            "| 2017-08-24 |  18:51:00  |  F9 FT B1038.1  | VAFB SLC-4E  |                           Formosat-5                          |        475        |     SSO     |                            NSPO                           |             Success              |  Success (drone ship)  |\n",
            "| 2017-09-07 |  14:00:00  |  F9 B4 B1040.1  |  KSC LC-39A  |                       Boeing X-37B OTV-5                      |        4990       |     LEO     |                       U.S. Air Force                      |             Success              |  Success (ground pad)  |\n",
            "| 2017-10-09 |  12:37:00  |  F9 B4 B1041.1  | VAFB SLC-4E  |                         Iridium NEXT 3                        |        9600       |  Polar LEO  |                   Iridium Communications                  |             Success              |  Success (drone ship)  |\n",
            "| 2017-10-11 |  22:53:00  |  F9 FT  B1031.2 |  KSC LC-39A  |                     SES-11 / EchoStar 105                     |        5200       |     GTO     |                        SES EchoStar                       |             Success              |  Success (drone ship)  |\n",
            "| 2017-10-30 |  19:34:00  |  F9 B4 B1042.1  |  KSC LC-39A  |                          Koreasat 5A                          |        3500       |     GTO     |                       KT Corporation                      |             Success              |  Success (drone ship)  |\n",
            "| 2017-12-15 |  15:36:00  |  F9 FT  B1035.2 | CCAFS SLC-40 |                         SpaceX CRS-13                         |        2205       |  LEO (ISS)  |                         NASA (CRS)                        |             Success              |  Success (ground pad)  |\n",
            "| 2017-12-23 |  1:27:00   |  F9 FT  B1036.2 | VAFB SLC-4E  |                         Iridium NEXT 4                        |        9600       |  Polar LEO  |                   Iridium Communications                  |             Success              |   Controlled (ocean)   |\n",
            "| 2018-01-08 |  1:00:00   |  F9 B4 B1043.1  | CCAFS SLC-40 |                              Zuma                             |        5000       |     LEO     |                      Northrop Grumman                     | Success (payload status unclear) |  Success (ground pad)  |\n",
            "| 2018-01-31 |  21:25:00  |  F9 FT  B1032.2 | CCAFS SLC-40 |                       GovSat-1 / SES-16                       |        4230       |     GTO     |                            SES                            |             Success              |   Controlled (ocean)   |\n",
            "| 2018-02-22 |  14:17:00  |  F9 FT  B1038.2 | VAFB SLC-4E  |                       Paz  Tintin A & B                       |        2150       |     SSO     |                 Hisdesat exactEarth SpaceX                |             Success              |       No attempt       |\n",
            "| 2018-03-06 |  5:33:00   |   F9 B4 B1044   | CCAFS SLC-40 |                     Hispasat 30W-6  PODSat                    |        6092       |     GTO     |                    Hispasat  NovaWurks                    |             Success              |       No attempt       |\n",
            "| 2018-03-30 |  14:14:00  |  F9 B4  B1041.2 | VAFB SLC-4E  |                         Iridium NEXT 5                        |        9600       |  Polar LEO  |                   Iridium Communications                  |             Success              |       No attempt       |\n",
            "| 2018-04-02 |  20:30:00  |  F9 B4  B1039.2 | CCAFS SLC-40 |                         SpaceX CRS-14                         |        2647       |  LEO (ISS)  |                         NASA (CRS)                        |             Success              |       No attempt       |\n",
            "| 2018-04-18 |  22:51:00  |  F9 B4 B1045.1  | CCAFS SLC-40 |          Transiting Exoplanet Survey Satellite (TESS)         |        362        |     HEO     |                         NASA (LSP)                        |             Success              |  Success (drone ship)  |\n",
            "| 2018-05-11 |  20:14:00  |  F9 B5  B1046.1 |  KSC LC-39A  |                         Bangabandhu-1                         |        3600       |     GTO     |                     Thales-Alenia/BTRC                    |             Success              |  Success (drone ship)  |\n",
            "| 2018-05-22 |  19:47:58  |  F9 B4  B1043.2 | VAFB SLC-4E  |                 Iridium NEXT 6   GRACE-FO 1, 2                |        6460       |  Polar LEO  |             Iridium Communications GFZ ‚ NASA             |             Success              |       No attempt       |\n",
            "| 2018-06-04 |  4:45:00   |  F9 B4  B1040.2 | CCAFS SLC-40 |                             SES-12                            |        5384       |     GTO     |                            SES                            |             Success              |       No attempt       |\n",
            "| 2018-06-29 |  9:42:00   |  F9 B4 B1045.2  | CCAFS SLC-40 |                         SpaceX CRS-15                         |        2697       |  LEO (ISS)  |                         NASA (CRS)                        |             Success              |       No attempt       |\n",
            "| 2018-07-22 |  5:50:00   |   F9 B5B1047.1  | CCAFS SLC-40 |                          Telstar 19V                          |        7075       |     GTO     |                          Telesat                          |             Success              |        Success         |\n",
            "| 2018-07-25 |  11:39:00  |   F9 B5B1048.1  | VAFB SLC-4E  |                         Iridium NEXT-7                        |        9600       |  Polar LEO  |                   Iridium Communications                  |             Success              |        Success         |\n",
            "| 2018-08-07 |  5:18:00   |  F9 B5 B1046.2  | CCAFS SLC-40 |                          Merah Putih                          |        5800       |     GTO     |                      Telkom Indonesia                     |             Success              |        Success         |\n",
            "| 2018-09-10 |  4:45:00   |   F9 B5B1049.1  | CCAFS SLC-40 |                    Telstar 18V / Apstar-5C                    |        7060       |     GTO     |                          Telesat                          |             Success              |        Success         |\n",
            "| 2018-10-08 |  2:22:00   |  F9 B5 B1048.2  | VAFB SLC-4E  |                           SAOCOM 1A                           |        3000       |     SSO     |                           CONAE                           |             Success              |        Success         |\n",
            "| 2018-11-15 |  20:46:00  |  F9 B5 B1047.2  |  KSC LC-39A  |                           Es hail 2                           |        5300       |     GTO     |                         Es hailSat                        |             Success              |        Success         |\n",
            "| 2018-12-03 |  18:34:05  |  F9 B5 B1046.3  | VAFB SLC-4E  |                             SSO-A                             |        4000       |     SSO     |                   Spaceflight Industries                  |             Success              |        Success         |\n",
            "| 2018-12-05 |  18:16:00  |    F9 B5B1050   | CCAFS SLC-40 |                         SpaceX CRS-16                         |        2500       |  LEO (ISS)  |                         NASA (CRS)                        |             Success              |        Failure         |\n",
            "| 2018-12-23 |  13:51:00  |    F9 B5B1054   | CCAFS SLC-40 |                          GPS III-01                           |        4400       |     MEO     |                            USAF                           |             Success              |       No attempt       |\n",
            "| 2019-01-11 |  15:31:00  |  F9 B5 B1049.2  | VAFB SLC-4E  |                         Iridium NEXT-8                        |        9600       |  Polar LEO  |                   Iridium Communications                  |             Success              |        Success         |\n",
            "| 2019-02-22 |  1:45:00   |  F9 B5 B1048.3  | CCAFS SLC-40 |           Nusantara Satu, Beresheet Moon lander, S5           |        4850       |     GTO     |                     PSN, SpaceIL / IAI                    |             Success              |        Success         |\n",
            "| 2019-03-02 |  7:49:00   |   F9 B5B1051.1  |  KSC LC-39A  |               Crew Dragon Demo-1, SpaceX CRS-17               |       12055       |  LEO (ISS)  |                        NASA (CCD)                         |             Success              |        Success         |\n",
            "| 2019-05-04 |  6:48:00   |  F9 B5B1056.1   | CCAFS SLC-40 |                  SpaceX CRS-17, Starlink v0.9                 |        2495       |  LEO (ISS)  |                         NASA (CRS)                        |             Success              |        Success         |\n",
            "| 2019-05-24 |  2:30:00   |  F9 B5 B1049.3  | CCAFS SLC-40 |             Starlink v0.9, RADARSAT Constellation             |       13620       |     LEO     |                           SpaceX                          |             Success              |        Success         |\n",
            "| 2019-06-12 |  14:17:00  |  F9 B5 B1051.2  | VAFB SLC-4E  |             RADARSAT Constellation, SpaceX CRS-18             |        4200       |     SSO     |                Canadian Space Agency (CSA)                |             Success              |        Success         |\n",
            "| 2019-07-25 |  22:01:00  |  F9 B5 B1056.2  | CCAFS SLC-40 |                    SpaceX CRS-18, AMOS-17                     |        2268       |  LEO (ISS)  |                         NASA (CRS)                        |             Success              |        Success         |\n",
            "| 2019-08-06 |  23:23:00  |  F9 B5 B1047.3  | CCAFS SLC-40 |                   AMOS-17, Starlink 1 v1.0                    |        6500       |     GTO     |                          Spacecom                         |             Success              |      No attempt        |\n",
            "| 2019-11-11 |  14:56:00  |  F9 B5 B1048.4  | CCAFS SLC-40 |                Starlink 1 v1.0, SpaceX CRS-19                 |       15600       |     LEO     |                           SpaceX                          |             Success              |        Success         |\n",
            "| 2019-12-05 |  17:29:00  |   F9 B5B1059.1  | CCAFS SLC-40 |              SpaceX CRS-19, JCSat-18 / Kacific 1              |        2617       |  LEO (ISS)  |                   NASA (CRS), Kacific 1                   |             Success              |        Success         |\n",
            "| 2019-12-17 |  0:10:00   |  F9 B5 B1056.3  | CCAFS SLC-40 |             JCSat-18 / Kacific 1, Starlink 2 v1.0             |        6956       |     GTO     |                Sky Perfect JSAT, Kacific 1                |             Success              |        Success         |\n",
            "| 2020-01-07 |  2:33:00   |  F9 B5 B1049.4  | CCAFS SLC-40 |       Starlink 2 v1.0, Crew Dragon in-flight abort test       |       15600       |     LEO     |                           SpaceX                          |             Success              |        Success         |\n",
            "| 2020-01-19 |  15:30:00  |  F9 B5 B1046.4  |  KSC LC-39A  |       Crew Dragon in-flight abort test, Starlink 3 v1.0       |       12050       | Sub-orbital |                         NASA (CTS)                        |             Success              |       No attempt       |\n",
            "| 2020-01-29 |  14:07:00  |  F9 B5 B1051.3  | CCAFS SLC-40 |               Starlink 3 v1.0, Starlink 4 v1.0                |       15600       |     LEO     |                           SpaceX                          |             Success              |        Success         |\n",
            "| 2020-02-17 |  15:05:00  |  F9 B5 B1056.4  | CCAFS SLC-40 |                 Starlink 4 v1.0, SpaceX CRS-20                |       15600       |     LEO     |                           SpaceX                          |             Success              |        Failure         |\n",
            "| 2020-03-07 |  4:50:00   |  F9 B5 B1059.2  | CCAFS SLC-40 |                SpaceX CRS-20, Starlink 5 v1.0                 |        1977       |  LEO (ISS)  |                         NASA (CRS)                        |             Success              |        Success         |\n",
            "| 2020-03-18 |  12:16:00  |  F9 B5 B1048.5  |  KSC LC-39A  |               Starlink 5 v1.0, Starlink 6 v1.0                |       15600       |     LEO     |                           SpaceX                          |             Success              |        Failure         |\n",
            "| 2020-04-22 |  19:30:00  |  F9 B5 B1051.4  |  KSC LC-39A  |              Starlink 6 v1.0, Crew Dragon Demo-2              |       15600       |     LEO     |                           SpaceX                          |             Success              |        Success         |\n",
            "| 2020-05-30 |  19:22:00  |  F9 B5B1058.1   |  KSC LC-39A  |              Crew Dragon Demo-2, Starlink 7 v1.0              |       12530       |  LEO (ISS)  |                        NASA (CCDev)                       |             Success              |        Success         |\n",
            "| 2020-06-04 |  1:25:00   |  F9 B5 B1049.5  | CCAFS SLC-40 |                Starlink 7 v1.0, Starlink 8 v1.0               |       15600       |     LEO     |                    SpaceX, Planet Labs                    |             Success              |        Success         |\n",
            "| 2020-06-13 |  9:21:00   |  F9 B5 B1059.3  | CCAFS SLC-40 |       Starlink 8 v1.0, SkySats-16, -17, -18, GPS III-03       |       15410       |     LEO     |                    SpaceX, Planet Labs                    |             Success              |        Success         |\n",
            "| 2020-06-30 |  20:10:46  |   F9 B5B1060.1  | CCAFS SLC-40 |                     GPS III-03, ANASIS-II                     |        4311       |     MEO     |                      U.S. Space Force                     |             Success              |        Success         |\n",
            "| 2020-07-20 |  21:30:00  |  F9 B5 B1058.2  | CCAFS SLC-40 |                   ANASIS-II, Starlink 9 v1.0                  |        5500       |     GTO     | Republic of Korea Army, Spaceflight Industries (BlackSky) |             Success              |        Success         |\n",
            "| 2020-08-07 |  5:12:00   |  F9 B5 B1051.5  |  KSC LC-39A  |           Starlink 9 v1.0, SXRS-1, Starlink 10 v1.0           |       14932       |     LEO     |   SpaceX, Spaceflight Industries (BlackSky), Planet Labs  |             Success              |        Success         |\n",
            "| 2020-08-18 |  14:31:00  |  F9 B5 B1049.6  | CCAFS SLC-40 |       Starlink 10 v1.0, SkySat-19, -20, -21, SAOCOM 1B        |       15440       |     LEO     |               SpaceX, Planet Labs, PlanetIQ               |             Success              |        Success         |\n",
            "| 2020-08-30 |  23:18:00  |  F9 B5 B1059.4  | CCAFS SLC-40 |                SAOCOM 1B, GNOMES 1, Tyvak-0172                |        3130       |     SSO     |                  CONAE, PlanetIQ, SpaceX                  |             Success              |        Success         |\n",
            "| 2020-09-03 |  12:46:14  |  F9 B5 B1060.2  |  KSC LC-39A  |              Starlink 11 v1.0, Starlink 12 v1.0               |       15600       |     LEO     |                           SpaceX                          |             Success              |        Success         |\n",
            "| 2020-10-06 |  11:29:34  |  F9 B5 B1058.3  |  KSC LC-39A  |              Starlink 12 v1.0, Starlink 13 v1.0               |       15600       |     LEO     |                           SpaceX                          |             Success              |        Success         |\n",
            "| 2020-10-18 |  12:25:57  |  F9 B5 B1051.6  |  KSC LC-39A  |              Starlink 13 v1.0, Starlink 14 v1.0               |       15600       |     LEO     |                           SpaceX                          |             Success              |        Success         |\n",
            "| 2020-10-24 |  15:31:34  |  F9 B5 B1060.3  | CCAFS SLC-40 |                 Starlink 14 v1.0, GPS III-04                  |       15600       |     LEO     |                           SpaceX                          |             Success              |        Success         |\n",
            "| 2020-11-05 |  23:24:23  |   F9 B5B1062.1  | CCAFS SLC-40 |                      GPS III-04 , Crew-1                      |        4311       |     MEO     |                            USSF                           |             Success              |        Success         |\n",
            "| 2020-11-16 |  0:27:00   |  F9 B5B1061.1   |  KSC LC-39A  |              Crew-1, Sentinel-6 Michael Freilich              |       12500       |  LEO (ISS)  |                         NASA (CCP)                        |             Success              |        Success         |\n",
            "| 2020-11-21 |  17:17:08  |   F9 B5B1063.1  | VAFB SLC-4E  |         Sentinel-6 Michael Freilich, Starlink 15 v1.0         |        1192       |     LEO     |                NASA / NOAA / ESA / EUMETSAT               |             Success              |        Success         |\n",
            "| 2020-11-25 |  2:13:00   |  F9 B5 B1049.7  | CCAFS SLC-40 |                Starlink 15 v1.0, SpaceX CRS-21                |       15600       |     LEO     |                           SpaceX                          |             Success              |        Success         |\n",
            "| 2020-12-06 |  16:17:08  |  F9 B5 B1058.4  |  KSC LC-39A  |                         SpaceX CRS-21                         |        2972       |  LEO (ISS)  |                         NASA (CRS)                        |             Success              |        Success         |\n",
            "+------------+------------+-----------------+--------------+---------------------------------------------------------------+-------------------+-------------+-----------------------------------------------------------+----------------------------------+------------------------+\n"
          ]
        }
      ]
    },
    {
      "cell_type": "code",
      "source": [
        "unique_launchsite = %sql select distinct Launch_Site from SPACEXTABLE\n",
        "print(unique_launchsite)"
      ],
      "metadata": {
        "colab": {
          "base_uri": "https://localhost:8080/"
        },
        "id": "r5PtPKIVu51A",
        "outputId": "49403c1f-3b4c-4e34-ad4c-30d10f88733f"
      },
      "execution_count": null,
      "outputs": [
        {
          "output_type": "stream",
          "name": "stdout",
          "text": [
            " * sqlite:///my_data1.db\n",
            "Done.\n",
            "+--------------+\n",
            "| Launch_Site  |\n",
            "+--------------+\n",
            "| CCAFS LC-40  |\n",
            "| VAFB SLC-4E  |\n",
            "|  KSC LC-39A  |\n",
            "| CCAFS SLC-40 |\n",
            "+--------------+\n"
          ]
        }
      ]
    },
    {
      "cell_type": "code",
      "source": [
        "#Task 2 Display 5 records where launch sites begin with the string 'CCA'\n",
        "task2 = %sql select * from SPACEXTABLE where Launch_Site Like 'CCA%' limit 5\n",
        "print(task2)"
      ],
      "metadata": {
        "colab": {
          "base_uri": "https://localhost:8080/"
        },
        "id": "5UPjTE9Fu8Me",
        "outputId": "c1b2326d-2c7c-43ec-cde9-6006065b7187"
      },
      "execution_count": null,
      "outputs": [
        {
          "output_type": "stream",
          "name": "stdout",
          "text": [
            " * sqlite:///my_data1.db\n",
            "Done.\n",
            "+------------+------------+-----------------+-------------+---------------------------------------------------------------+-------------------+-----------+-----------------+-----------------+---------------------+\n",
            "|    Date    | Time (UTC) | Booster_Version | Launch_Site |                            Payload                            | PAYLOAD_MASS__KG_ |   Orbit   |     Customer    | Mission_Outcome |   Landing_Outcome   |\n",
            "+------------+------------+-----------------+-------------+---------------------------------------------------------------+-------------------+-----------+-----------------+-----------------+---------------------+\n",
            "| 2010-06-04 |  18:45:00  |  F9 v1.0  B0003 | CCAFS LC-40 |              Dragon Spacecraft Qualification Unit             |         0         |    LEO    |      SpaceX     |     Success     | Failure (parachute) |\n",
            "| 2010-12-08 |  15:43:00  |  F9 v1.0  B0004 | CCAFS LC-40 | Dragon demo flight C1, two CubeSats, barrel of Brouere cheese |         0         | LEO (ISS) | NASA (COTS) NRO |     Success     | Failure (parachute) |\n",
            "| 2012-05-22 |  7:44:00   |  F9 v1.0  B0005 | CCAFS LC-40 |                     Dragon demo flight C2                     |        525        | LEO (ISS) |   NASA (COTS)   |     Success     |      No attempt     |\n",
            "| 2012-10-08 |  0:35:00   |  F9 v1.0  B0006 | CCAFS LC-40 |                          SpaceX CRS-1                         |        500        | LEO (ISS) |    NASA (CRS)   |     Success     |      No attempt     |\n",
            "| 2013-03-01 |  15:10:00  |  F9 v1.0  B0007 | CCAFS LC-40 |                          SpaceX CRS-2                         |        677        | LEO (ISS) |    NASA (CRS)   |     Success     |      No attempt     |\n",
            "+------------+------------+-----------------+-------------+---------------------------------------------------------------+-------------------+-----------+-----------------+-----------------+---------------------+\n"
          ]
        }
      ]
    },
    {
      "cell_type": "code",
      "source": [
        "task_3 = %sql SELECT SUM(PAYLOAD_MASS__KG_) FROM SPACEXTABLE  WHERE Customer LIKE '%NASA (CRS)%';\n",
        "print(task_3)"
      ],
      "metadata": {
        "colab": {
          "base_uri": "https://localhost:8080/"
        },
        "id": "TpT5Z8pF6YNL",
        "outputId": "5ff96a6e-f494-4bd3-d6e9-8f3ee3ecbbc0"
      },
      "execution_count": null,
      "outputs": [
        {
          "output_type": "stream",
          "name": "stdout",
          "text": [
            " * sqlite:///my_data1.db\n",
            "Done.\n",
            "+------------------------+\n",
            "| SUM(PAYLOAD_MASS__KG_) |\n",
            "+------------------------+\n",
            "|         48213          |\n",
            "+------------------------+\n"
          ]
        }
      ]
    },
    {
      "cell_type": "code",
      "source": [
        "#Task 4: Display average payload mass carried by booster version F9 v1.1\n",
        "task_4 = %sql SELECT AVG(PAYLOAD_MASS__KG_) FROM SPACEXTABLE  WHERE Booster_Version = 'F9 v1.1';\n",
        "print(task_4)"
      ],
      "metadata": {
        "colab": {
          "base_uri": "https://localhost:8080/"
        },
        "id": "9Q4jIgk66m95",
        "outputId": "2324401d-4118-42ca-dd95-53408a82fde6"
      },
      "execution_count": null,
      "outputs": [
        {
          "output_type": "stream",
          "name": "stdout",
          "text": [
            " * sqlite:///my_data1.db\n",
            "Done.\n",
            "+------------------------+\n",
            "| AVG(PAYLOAD_MASS__KG_) |\n",
            "+------------------------+\n",
            "|         2928.4         |\n",
            "+------------------------+\n"
          ]
        }
      ]
    },
    {
      "cell_type": "code",
      "source": [
        "#Task 5: List the date when the first successful landing outcome in ground pad was achieved\n",
        "%sql SELECT MIN(Date) AS First_Successful_Landing_Date  FROM SPACEXTABLE  WHERE Landing_Outcome = 'Success (ground pad)';\n"
      ],
      "metadata": {
        "colab": {
          "base_uri": "https://localhost:8080/",
          "height": 95
        },
        "id": "atwlqm-p7TQ7",
        "outputId": "8d867285-a335-43a4-d7cd-63b63bf19d7a"
      },
      "execution_count": null,
      "outputs": [
        {
          "output_type": "stream",
          "name": "stdout",
          "text": [
            " * sqlite:///my_data1.db\n",
            "Done.\n"
          ]
        },
        {
          "output_type": "execute_result",
          "data": {
            "text/plain": [
              "[('2015-12-22',)]"
            ],
            "text/html": [
              "<table>\n",
              "    <thead>\n",
              "        <tr>\n",
              "            <th>First_Successful_Landing_Date</th>\n",
              "        </tr>\n",
              "    </thead>\n",
              "    <tbody>\n",
              "        <tr>\n",
              "            <td>2015-12-22</td>\n",
              "        </tr>\n",
              "    </tbody>\n",
              "</table>"
            ]
          },
          "metadata": {},
          "execution_count": 26
        }
      ]
    },
    {
      "cell_type": "code",
      "source": [
        "#Task 6: List the names of boosters which have success in drone ship and have payload mass greater than 4000 but less than 6000\n",
        "%sql SELECT DISTINCT Booster_Version  FROM SPACEXTABLE  WHERE Landing_Outcome = 'Success (drone ship)'  AND PAYLOAD_MASS__KG_ > 4000  AND PAYLOAD_MASS__KG_ < 6000;\n"
      ],
      "metadata": {
        "colab": {
          "base_uri": "https://localhost:8080/",
          "height": 157
        },
        "id": "Nm93x6PO79_P",
        "outputId": "fff1bff1-fc1c-40bd-9748-cf68dabc23ef"
      },
      "execution_count": null,
      "outputs": [
        {
          "output_type": "stream",
          "name": "stdout",
          "text": [
            " * sqlite:///my_data1.db\n",
            "Done.\n"
          ]
        },
        {
          "output_type": "execute_result",
          "data": {
            "text/plain": [
              "[('F9 FT B1022',), ('F9 FT B1026',), ('F9 FT  B1021.2',), ('F9 FT  B1031.2',)]"
            ],
            "text/html": [
              "<table>\n",
              "    <thead>\n",
              "        <tr>\n",
              "            <th>Booster_Version</th>\n",
              "        </tr>\n",
              "    </thead>\n",
              "    <tbody>\n",
              "        <tr>\n",
              "            <td>F9 FT B1022</td>\n",
              "        </tr>\n",
              "        <tr>\n",
              "            <td>F9 FT B1026</td>\n",
              "        </tr>\n",
              "        <tr>\n",
              "            <td>F9 FT  B1021.2</td>\n",
              "        </tr>\n",
              "        <tr>\n",
              "            <td>F9 FT  B1031.2</td>\n",
              "        </tr>\n",
              "    </tbody>\n",
              "</table>"
            ]
          },
          "metadata": {},
          "execution_count": 27
        }
      ]
    },
    {
      "cell_type": "code",
      "source": [
        "#Task 7: List the total number of successful and failure mission outcomes\n",
        "%sql SELECT Landing_Outcome, COUNT(*) AS Total_Count  FROM SPACEXTABLE  GROUP BY Landing_Outcome;\n"
      ],
      "metadata": {
        "colab": {
          "base_uri": "https://localhost:8080/",
          "height": 303
        },
        "id": "BwOUSrxK8Kvs",
        "outputId": "d7e27881-a6a1-4c43-90f0-0fa6f50b1601"
      },
      "execution_count": null,
      "outputs": [
        {
          "output_type": "stream",
          "name": "stdout",
          "text": [
            " * sqlite:///my_data1.db\n",
            "Done.\n"
          ]
        },
        {
          "output_type": "execute_result",
          "data": {
            "text/plain": [
              "[('Controlled (ocean)', 5),\n",
              " ('Failure', 3),\n",
              " ('Failure (drone ship)', 5),\n",
              " ('Failure (parachute)', 2),\n",
              " ('No attempt', 21),\n",
              " ('No attempt ', 1),\n",
              " ('Precluded (drone ship)', 1),\n",
              " ('Success', 38),\n",
              " ('Success (drone ship)', 14),\n",
              " ('Success (ground pad)', 9),\n",
              " ('Uncontrolled (ocean)', 2)]"
            ],
            "text/html": [
              "<table>\n",
              "    <thead>\n",
              "        <tr>\n",
              "            <th>Landing_Outcome</th>\n",
              "            <th>Total_Count</th>\n",
              "        </tr>\n",
              "    </thead>\n",
              "    <tbody>\n",
              "        <tr>\n",
              "            <td>Controlled (ocean)</td>\n",
              "            <td>5</td>\n",
              "        </tr>\n",
              "        <tr>\n",
              "            <td>Failure</td>\n",
              "            <td>3</td>\n",
              "        </tr>\n",
              "        <tr>\n",
              "            <td>Failure (drone ship)</td>\n",
              "            <td>5</td>\n",
              "        </tr>\n",
              "        <tr>\n",
              "            <td>Failure (parachute)</td>\n",
              "            <td>2</td>\n",
              "        </tr>\n",
              "        <tr>\n",
              "            <td>No attempt</td>\n",
              "            <td>21</td>\n",
              "        </tr>\n",
              "        <tr>\n",
              "            <td>No attempt </td>\n",
              "            <td>1</td>\n",
              "        </tr>\n",
              "        <tr>\n",
              "            <td>Precluded (drone ship)</td>\n",
              "            <td>1</td>\n",
              "        </tr>\n",
              "        <tr>\n",
              "            <td>Success</td>\n",
              "            <td>38</td>\n",
              "        </tr>\n",
              "        <tr>\n",
              "            <td>Success (drone ship)</td>\n",
              "            <td>14</td>\n",
              "        </tr>\n",
              "        <tr>\n",
              "            <td>Success (ground pad)</td>\n",
              "            <td>9</td>\n",
              "        </tr>\n",
              "        <tr>\n",
              "            <td>Uncontrolled (ocean)</td>\n",
              "            <td>2</td>\n",
              "        </tr>\n",
              "    </tbody>\n",
              "</table>"
            ]
          },
          "metadata": {},
          "execution_count": 33
        }
      ]
    },
    {
      "cell_type": "code",
      "source": [
        "#Task 8: List all booster versions that have carried the maximum payload mass\n",
        "%sql SELECT Booster_Version  FROM SPACEXTABLE  WHERE PAYLOAD_MASS__KG_ = (SELECT MAX(PAYLOAD_MASS__KG_) FROM SPACEXTABLE);\n"
      ],
      "metadata": {
        "colab": {
          "base_uri": "https://localhost:8080/",
          "height": 324
        },
        "id": "rBnBYpPV9gUX",
        "outputId": "c2c9c6d6-5e97-4290-df5b-e2eeec6026c7"
      },
      "execution_count": null,
      "outputs": [
        {
          "output_type": "stream",
          "name": "stdout",
          "text": [
            " * sqlite:///my_data1.db\n",
            "Done.\n"
          ]
        },
        {
          "output_type": "execute_result",
          "data": {
            "text/plain": [
              "[('F9 B5 B1048.4',),\n",
              " ('F9 B5 B1049.4',),\n",
              " ('F9 B5 B1051.3',),\n",
              " ('F9 B5 B1056.4',),\n",
              " ('F9 B5 B1048.5',),\n",
              " ('F9 B5 B1051.4',),\n",
              " ('F9 B5 B1049.5',),\n",
              " ('F9 B5 B1060.2 ',),\n",
              " ('F9 B5 B1058.3 ',),\n",
              " ('F9 B5 B1051.6',),\n",
              " ('F9 B5 B1060.3',),\n",
              " ('F9 B5 B1049.7 ',)]"
            ],
            "text/html": [
              "<table>\n",
              "    <thead>\n",
              "        <tr>\n",
              "            <th>Booster_Version</th>\n",
              "        </tr>\n",
              "    </thead>\n",
              "    <tbody>\n",
              "        <tr>\n",
              "            <td>F9 B5 B1048.4</td>\n",
              "        </tr>\n",
              "        <tr>\n",
              "            <td>F9 B5 B1049.4</td>\n",
              "        </tr>\n",
              "        <tr>\n",
              "            <td>F9 B5 B1051.3</td>\n",
              "        </tr>\n",
              "        <tr>\n",
              "            <td>F9 B5 B1056.4</td>\n",
              "        </tr>\n",
              "        <tr>\n",
              "            <td>F9 B5 B1048.5</td>\n",
              "        </tr>\n",
              "        <tr>\n",
              "            <td>F9 B5 B1051.4</td>\n",
              "        </tr>\n",
              "        <tr>\n",
              "            <td>F9 B5 B1049.5</td>\n",
              "        </tr>\n",
              "        <tr>\n",
              "            <td>F9 B5 B1060.2 </td>\n",
              "        </tr>\n",
              "        <tr>\n",
              "            <td>F9 B5 B1058.3 </td>\n",
              "        </tr>\n",
              "        <tr>\n",
              "            <td>F9 B5 B1051.6</td>\n",
              "        </tr>\n",
              "        <tr>\n",
              "            <td>F9 B5 B1060.3</td>\n",
              "        </tr>\n",
              "        <tr>\n",
              "            <td>F9 B5 B1049.7 </td>\n",
              "        </tr>\n",
              "    </tbody>\n",
              "</table>"
            ]
          },
          "metadata": {},
          "execution_count": 34
        }
      ]
    },
    {
      "cell_type": "code",
      "source": [
        "#Task 9: List records for months in year 2015\n",
        "%sql SELECT substr(Date, 6, 2) AS Month, Booster_Version, Launch_Site, Landing_Outcome  FROM SPACEXTABLE  WHERE substr(Date, 1, 4) = '2015';\n"
      ],
      "metadata": {
        "colab": {
          "base_uri": "https://localhost:8080/",
          "height": 220
        },
        "id": "hQ37QhS89onq",
        "outputId": "890636fb-8fdb-4833-fe88-c2c24e70dc81"
      },
      "execution_count": null,
      "outputs": [
        {
          "output_type": "stream",
          "name": "stdout",
          "text": [
            " * sqlite:///my_data1.db\n",
            "Done.\n"
          ]
        },
        {
          "output_type": "execute_result",
          "data": {
            "text/plain": [
              "[('01', 'F9 v1.1 B1012', 'CCAFS LC-40', 'Failure (drone ship)'),\n",
              " ('02', 'F9 v1.1 B1013', 'CCAFS LC-40', 'Controlled (ocean)'),\n",
              " ('03', 'F9 v1.1 B1014', 'CCAFS LC-40', 'No attempt'),\n",
              " ('04', 'F9 v1.1 B1015', 'CCAFS LC-40', 'Failure (drone ship)'),\n",
              " ('04', 'F9 v1.1 B1016', 'CCAFS LC-40', 'No attempt'),\n",
              " ('06', 'F9 v1.1 B1018', 'CCAFS LC-40', 'Precluded (drone ship)'),\n",
              " ('12', 'F9 FT B1019', 'CCAFS LC-40', 'Success (ground pad)')]"
            ],
            "text/html": [
              "<table>\n",
              "    <thead>\n",
              "        <tr>\n",
              "            <th>Month</th>\n",
              "            <th>Booster_Version</th>\n",
              "            <th>Launch_Site</th>\n",
              "            <th>Landing_Outcome</th>\n",
              "        </tr>\n",
              "    </thead>\n",
              "    <tbody>\n",
              "        <tr>\n",
              "            <td>01</td>\n",
              "            <td>F9 v1.1 B1012</td>\n",
              "            <td>CCAFS LC-40</td>\n",
              "            <td>Failure (drone ship)</td>\n",
              "        </tr>\n",
              "        <tr>\n",
              "            <td>02</td>\n",
              "            <td>F9 v1.1 B1013</td>\n",
              "            <td>CCAFS LC-40</td>\n",
              "            <td>Controlled (ocean)</td>\n",
              "        </tr>\n",
              "        <tr>\n",
              "            <td>03</td>\n",
              "            <td>F9 v1.1 B1014</td>\n",
              "            <td>CCAFS LC-40</td>\n",
              "            <td>No attempt</td>\n",
              "        </tr>\n",
              "        <tr>\n",
              "            <td>04</td>\n",
              "            <td>F9 v1.1 B1015</td>\n",
              "            <td>CCAFS LC-40</td>\n",
              "            <td>Failure (drone ship)</td>\n",
              "        </tr>\n",
              "        <tr>\n",
              "            <td>04</td>\n",
              "            <td>F9 v1.1 B1016</td>\n",
              "            <td>CCAFS LC-40</td>\n",
              "            <td>No attempt</td>\n",
              "        </tr>\n",
              "        <tr>\n",
              "            <td>06</td>\n",
              "            <td>F9 v1.1 B1018</td>\n",
              "            <td>CCAFS LC-40</td>\n",
              "            <td>Precluded (drone ship)</td>\n",
              "        </tr>\n",
              "        <tr>\n",
              "            <td>12</td>\n",
              "            <td>F9 FT B1019</td>\n",
              "            <td>CCAFS LC-40</td>\n",
              "            <td>Success (ground pad)</td>\n",
              "        </tr>\n",
              "    </tbody>\n",
              "</table>"
            ]
          },
          "metadata": {},
          "execution_count": 35
        }
      ]
    },
    {
      "cell_type": "code",
      "source": [
        "#Task 10: Rank landing outcomes between specific dates in descending order\n",
        "%sql SELECT Landing_Outcome, COUNT(*) AS Outcome_Count  FROM SPACEXTABLE  WHERE Date BETWEEN '2010-06-04' AND '2017-03-20'  GROUP BY Landing_Outcome  ORDER BY Outcome_Count DESC;\n"
      ],
      "metadata": {
        "colab": {
          "base_uri": "https://localhost:8080/",
          "height": 241
        },
        "id": "hrITk_8v9_dn",
        "outputId": "b8436a3e-5bea-483d-a6d0-2baeee26360d"
      },
      "execution_count": null,
      "outputs": [
        {
          "output_type": "stream",
          "name": "stdout",
          "text": [
            " * sqlite:///my_data1.db\n",
            "Done.\n"
          ]
        },
        {
          "output_type": "execute_result",
          "data": {
            "text/plain": [
              "[('No attempt', 10),\n",
              " ('Success (drone ship)', 5),\n",
              " ('Failure (drone ship)', 5),\n",
              " ('Success (ground pad)', 3),\n",
              " ('Controlled (ocean)', 3),\n",
              " ('Uncontrolled (ocean)', 2),\n",
              " ('Failure (parachute)', 2),\n",
              " ('Precluded (drone ship)', 1)]"
            ],
            "text/html": [
              "<table>\n",
              "    <thead>\n",
              "        <tr>\n",
              "            <th>Landing_Outcome</th>\n",
              "            <th>Outcome_Count</th>\n",
              "        </tr>\n",
              "    </thead>\n",
              "    <tbody>\n",
              "        <tr>\n",
              "            <td>No attempt</td>\n",
              "            <td>10</td>\n",
              "        </tr>\n",
              "        <tr>\n",
              "            <td>Success (drone ship)</td>\n",
              "            <td>5</td>\n",
              "        </tr>\n",
              "        <tr>\n",
              "            <td>Failure (drone ship)</td>\n",
              "            <td>5</td>\n",
              "        </tr>\n",
              "        <tr>\n",
              "            <td>Success (ground pad)</td>\n",
              "            <td>3</td>\n",
              "        </tr>\n",
              "        <tr>\n",
              "            <td>Controlled (ocean)</td>\n",
              "            <td>3</td>\n",
              "        </tr>\n",
              "        <tr>\n",
              "            <td>Uncontrolled (ocean)</td>\n",
              "            <td>2</td>\n",
              "        </tr>\n",
              "        <tr>\n",
              "            <td>Failure (parachute)</td>\n",
              "            <td>2</td>\n",
              "        </tr>\n",
              "        <tr>\n",
              "            <td>Precluded (drone ship)</td>\n",
              "            <td>1</td>\n",
              "        </tr>\n",
              "    </tbody>\n",
              "</table>"
            ]
          },
          "metadata": {},
          "execution_count": 36
        }
      ]
    }
  ]
}
